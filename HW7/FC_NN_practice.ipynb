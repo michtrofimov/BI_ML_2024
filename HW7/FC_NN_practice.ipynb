{
  "nbformat": 4,
  "nbformat_minor": 0,
  "metadata": {
    "colab": {
      "provenance": [],
      "gpuType": "T4"
    },
    "kernelspec": {
      "name": "python3",
      "display_name": "Python 3"
    },
    "language_info": {
      "name": "python"
    },
    "accelerator": "GPU"
  },
  "cells": [
    {
      "cell_type": "markdown",
      "source": [
        "Всем привет! Сегодня вы впервые попробуете написать свою собственную нейронную сеть и попробовать ее обучить. Мы будем работать с картинками, но пока что не совсем тем способом, которым лучше всего это делать, но должно получиться неплохо.\n",
        "\n",
        "Будем работать с [датасетом](https://github.com/rois-codh/kmnist) `Kuzushiji-MNIST` (`KMNIST`). Это рукописные буквы, изображения имеют размер (28, 28, 1) и разделены на 10 классов, по ссылке можно прочитать подробнее."
      ],
      "metadata": {
        "id": "-pSGPQS8Btmc"
      }
    },
    {
      "cell_type": "code",
      "source": [
        "import numpy as np\n",
        "import torch\n",
        "import matplotlib.pyplot as plt\n",
        "from IPython.display import clear_output"
      ],
      "metadata": {
        "id": "75HVAP_RFU7r"
      },
      "execution_count": 1,
      "outputs": []
    },
    {
      "cell_type": "markdown",
      "source": [
        "## Загрузка данных"
      ],
      "metadata": {
        "id": "46iQ8ixtEruP"
      }
    },
    {
      "cell_type": "markdown",
      "source": [
        "Сейчас мы будем использовать встроенные данные, но в реальности приходится писать свой класс для датасета (Dataset), у которого реализовывать несколько обязательных методов (напр, `__getitem__`), но это обсудим уже потом."
      ],
      "metadata": {
        "id": "R6h1jVreJlV-"
      }
    },
    {
      "cell_type": "code",
      "execution_count": 2,
      "metadata": {
        "id": "s9L9Z02o_1bK"
      },
      "outputs": [],
      "source": [
        "import torchvision\n",
        "from torchvision.datasets import KMNIST\n",
        "\n",
        "\n",
        "# Превращает картинки в тензоры\n",
        "transform = torchvision.transforms.Compose(\n",
        "    [torchvision.transforms.ToTensor()])\n",
        "\n",
        "# Загрузим данные (в переменных лежат объекты типа `Dataset`)\n",
        "# В аргумент `transform` мы передаем необходимые трансформации (ToTensor)\n",
        "trainset = KMNIST(root=\"./KMNIST\", train=True, download=True, transform=transform)\n",
        "testset = KMNIST(root=\"./KMNIST\", train=False, download=True, transform=transform)\n",
        "\n",
        "clear_output()"
      ]
    },
    {
      "cell_type": "markdown",
      "source": [
        "Определим даталоадеры, они нужны, чтобы реализовывать стохастический градиентный спуск (то есть мы не хотим считывать в оперативную память все картинки сразу, а делать это батчами)."
      ],
      "metadata": {
        "id": "V83E2vDrO9CC"
      }
    },
    {
      "cell_type": "code",
      "source": [
        "from torch.utils.data import DataLoader\n",
        "\n",
        "\n",
        "# Можно оставить таким\n",
        "batch_size = 256\n",
        "\n",
        "trainloader = DataLoader(trainset, batch_size=batch_size, shuffle=True, num_workers=2)\n",
        "testloader = DataLoader(testset, batch_size=batch_size, shuffle=False, num_workers=2)"
      ],
      "metadata": {
        "id": "oqC8XO8pO8Px"
      },
      "execution_count": 3,
      "outputs": []
    },
    {
      "cell_type": "markdown",
      "source": [
        "Подумайте, как может влиять на скорость обучения параметр `batch_size`, почему вы так считаете?\n",
        "\n",
        "**Ответ:**\n",
        "\n",
        "Чем меньше батч сайз тем дольше нам нужно обучаться. Поскольку при маленьком батч-сайзе наш градиентный спуск не всегда происходит в верном направлении и градиент сходится дольше."
      ],
      "metadata": {
        "id": "-Ntp5sLoPyGx"
      }
    },
    {
      "cell_type": "markdown",
      "source": [
        "Посмотрим на какую-нибудь картинку:"
      ],
      "metadata": {
        "id": "t2vmM4KaHvrs"
      }
    },
    {
      "cell_type": "code",
      "source": [
        "plt.imshow(trainset[0][0].view(28, 28).numpy(), cmap=\"gray\")\n",
        "plt.axis(\"off\")\n",
        "plt.title(f\"Class is {trainset[0][1]}\", fontsize=16);"
      ],
      "metadata": {
        "colab": {
          "base_uri": "https://localhost:8080/",
          "height": 430
        },
        "id": "N-b-kFCYAoOP",
        "outputId": "a373e9e0-27eb-4297-aba5-d5fa01d14bfd"
      },
      "execution_count": 4,
      "outputs": [
        {
          "output_type": "display_data",
          "data": {
            "text/plain": [
              "<Figure size 640x480 with 1 Axes>"
            ],
            "image/png": "[encoded data removed]"
          },
          "metadata": {}
        }
      ]
    },
    {
      "cell_type": "markdown",
      "source": [
        "### Задание 1. Смотрим на картинки\n",
        "\n",
        "**2** балла\n",
        "\n",
        "Нарисуйте на одном графике изображения всех 10 классов:"
      ],
      "metadata": {
        "id": "8_MSY231Hzz9"
      }
    },
    {
      "cell_type": "markdown",
      "source": [
        "⣿⣿⣿⣿⣿⣿⠿⢋⣥⣴⣶⣶⣶⣬⣙⠻⠟⣋⣭⣭⣭⣭⡙⠻⣿⣿⣿⣿⣿\n",
        "⣿⣿⣿⣿⡿⢋⣴⣿⣿⠿⢟⣛⣛⣛⠿⢷⡹⣿⣿⣿⣿⣿⣿⣆⠹⣿⣿⣿⣿\n",
        "⣿⣿⣿⡿⢁⣾⣿⣿⣴⣿⣿⣿⣿⠿⠿⠷⠥⠱⣶⣶⣶⣶⡶⠮⠤⣌⡙⢿⣿\n",
        "⣿⡿⢛⡁⣾⣿⣿⣿⡿⢟⡫⢕⣪⡭⠥⢭⣭⣉⡂⣉⡒⣤⡭⡉⠩⣥⣰⠂⠹\n",
        "⡟⢠⣿⣱⣿⣿⣿⣏⣛⢲⣾⣿⠃⠄⠐⠈⣿⣿⣿⣿⣿⣿⠄⠁⠃⢸⣿⣿⡧\n",
        "⢠⣿⣿⣿⣿⣿⣿⣿⣿⣇⣊⠙⠳⠤⠤⠾⣟⠛⠍⣹⣛⣛⣢⣀⣠⣛⡯⢉⣰\n",
        "⣿⣿⣿⣿⣿⣿⣿⣿⣿⣿⣿⣿⣷⡶⠶⢒⣠⣼⣿⣿⣛⠻⠛⢛⣛⠉⣴⣿⣿\n",
        "⣿⣿⣿⣿⣿⣿⣿⡿⢛⡛⢿⣿⣿⣶⣿⣿⣿⣿⣿⣿⣿⣿⣿⣿⣿⣷⡈⢿⣿\n",
        "⣿⣿⣿⣿⣿⣿⣿⠸⣿⡻⢷⣍⣛⠻⠿⠿⣿⣿⣿⣿⣿⣿⣿⣿⣿⠿⢇⡘⣿\n",
        "⣿⣿⣿⣿⣿⣿⣿⣷⣝⠻⠶⣬⣍⣛⣛⠓⠶⠶⠶⠤⠬⠭⠤⠶⠶⠞⠛⣡⣿\n",
        "⢿⣿⣿⣿⣿⣿⣿⣿⣿⣿⣷⣶⣬⣭⣍⣙⣛⣛⣛⠛⠛⠛⠿⠿⠿⠛⣠⣿⣿\n",
        "⣦⣈⠉⢛⠻⠿⠿⢿⣿⣿⣿⣿⣿⣿⣿⣿⣿⣿⣿⡿⠿⠛⣁⣴⣾⣿⣿⣿⣿\n",
        "⣿⣿⣿⣶⣮⣭⣁⣒⣒⣒⠂⠠⠬⠭⠭⠭⢀⣀⣠⣄⡘⠿⣿⣿⣿⣿⣿⣿⣿\n",
        "⣿⣿⣿⣿⣿⣿⣿⣿⣿⣿⣿⣿⣿⣿⣿⣿⣿⣿⣿⣿⣿⣦⡈⢿⣿⣿⣿⣿⣿\n",
        "\n",
        "\n",
        "\n"
      ],
      "metadata": {
        "id": "j0tNdHM5JS6l"
      }
    },
    {
      "cell_type": "code",
      "source": [
        "from torchvision.transforms import v2, ToPILImage\n",
        "def plot_every_class_image():\n",
        "    y = trainset.targets.unique()\n",
        "    # Display results\n",
        "    fig, axes = plt.subplots(2, 5, figsize=(8, 8))\n",
        "    for ax, y_class in zip(axes.flatten(), y):\n",
        "        # Plot the image\n",
        "        ax.imshow(ToPILImage()(trainset.data[trainset.targets == y_class][0]))\n",
        "        # Remove ticks and labels from the axes\n",
        "        ax.set_xticks([])\n",
        "        ax.set_yticks([])\n",
        "        # Assign a title to the subplot based on the image's class\n",
        "        ax.set_title(f'class: {y_class}')\n",
        "    plt.show()\n",
        "    # END Solution (do not delete this comment!)"
      ],
      "metadata": {
        "id": "x3j6Bsu9AoT6"
      },
      "execution_count": 5,
      "outputs": []
    },
    {
      "cell_type": "code",
      "source": [
        "plot_every_class_image()"
      ],
      "metadata": {
        "id": "7v_VQ_8MO6Eg",
        "outputId": "93f673d0-c3de-49cc-d1d4-4d2511abc928",
        "colab": {
          "base_uri": "https://localhost:8080/",
          "height": 502
        }
      },
      "execution_count": 6,
      "outputs": [
        {
          "output_type": "display_data",
          "data": {
            "text/plain": [
              "<Figure size 800x800 with 10 Axes>"
            ],
            "image/png": "[encoded data removed]"
          },
          "metadata": {}
        }
      ]
    },
    {
      "cell_type": "markdown",
      "source": [
        "### Задание 2. Строим свой первый MLP\n",
        "\n",
        "**4** балла\n",
        "\n",
        "MLP (multilayer perceptron) или нейронная сеть из полносвязных (линейных) слоев, это мы уже знаем.\n",
        "\n",
        "Опишите структуру сети: 3 полносвязных слоя + функции активации на ваш выбор. **Подумайте** про активацию после последнего слоя!\n",
        "\n",
        "Сеть на выходе 1 слоя должна иметь 256 признаков, на выходе из 2 128 признаков, на выходе из последнего столько, сколько у вас классов.\n",
        "\n",
        "https://pytorch.org/docs/stable/nn.html?highlight=activation#non-linear-activations-weighted-sum-nonlinearity"
      ],
      "metadata": {
        "id": "dLCfnFW-JtGx"
      }
    },
    {
      "cell_type": "code",
      "source": [
        "import torch.nn as nn\n",
        "\n",
        "class FCNet(nn.Module):\n",
        "    def __init__(self):\n",
        "        super().__init__() #  это надо помнить!\n",
        "        ## YOUR CODE HERE\n",
        "        self.layers = nn.Sequential(\n",
        "            nn.Flatten(),\n",
        "            nn.Linear(1*28*28, 256),\n",
        "            nn.ReLU(),\n",
        "            nn.Linear(256,128),\n",
        "            nn.ReLU(),\n",
        "            nn.Linear(128,10)\n",
        "        )\n",
        "\n",
        "    def forward(self, x):  # Forward вызывается внутри метода __call__ родительского класса\n",
        "        ## x -> тензор размерности (BATCH_SIZE, N_CHANNELS, WIDTH, HEIGHT)\n",
        "        ## надо подумать над тем, что у нас полносвязные слои принимают векторы\n",
        "\n",
        "        ## YOUR CODE HERE\n",
        "        logits = self.layers(x)\n",
        "        return logits"
      ],
      "metadata": {
        "id": "dhYBvQIXJdSz"
      },
      "execution_count": 119,
      "outputs": []
    },
    {
      "cell_type": "code",
      "source": [
        "((28*28+1) * 256) + ((256+1) * 128) + ((128+1)*10)"
      ],
      "metadata": {
        "colab": {
          "base_uri": "https://localhost:8080/"
        },
        "id": "HV7qAfIXSxmL",
        "outputId": "9671f2a6-bccf-4349-9fc9-c24c4e2293d7"
      },
      "execution_count": 19,
      "outputs": [
        {
          "output_type": "execute_result",
          "data": {
            "text/plain": [
              "235146"
            ]
          },
          "metadata": {},
          "execution_count": 19
        }
      ]
    },
    {
      "cell_type": "code",
      "source": [
        "model=FCNet()\n",
        "model_parameters = filter(lambda p: p.requires_grad, model.parameters())\n",
        "params = sum([np.prod(p.size()) for p in model_parameters])\n",
        "print(params)"
      ],
      "metadata": {
        "colab": {
          "base_uri": "https://localhost:8080/"
        },
        "id": "9q98AkmZRuh9",
        "outputId": "b3fe0696-df88-4b2a-b18e-3be323e7a5ad"
      },
      "execution_count": 18,
      "outputs": [
        {
          "output_type": "stream",
          "name": "stdout",
          "text": [
            "235146\n"
          ]
        }
      ]
    },
    {
      "cell_type": "markdown",
      "source": [
        "Сколько обучаемых параметров у вашей модели (весов и смещений)?\n",
        "\n",
        "**Ответ:**\n",
        "\n",
        "235146"
      ],
      "metadata": {
        "id": "uI0R77EQNKef"
      }
    },
    {
      "cell_type": "markdown",
      "source": [
        "### Задание 3. Напишите код для обучения модели\n",
        "\n",
        "**5** баллов\n",
        "\n",
        "Можно (и нужно) подглядывать в код семинара по пайторчу. Вам нужно создать модель, определить функцию потерь и оптимизатор (начнем с `SGD`). Дальше нужно обучать модель, при помощи тренировочного `Dataloader'a` и считать лосс на тренировочном и тестовом `Dataloader'ах`."
      ],
      "metadata": {
        "id": "iwGllji2M4lp"
      }
    },
    {
      "cell_type": "markdown",
      "source": [
        "Напишем функцию для рассчета `accuracy`:"
      ],
      "metadata": {
        "id": "Grv9xcybRfCX"
      }
    },
    {
      "cell_type": "code",
      "source": [
        "def get_accuracy(model, dataloader):\n",
        "    \"\"\"\n",
        "    model - обученная нейронная сеть\n",
        "    dataloader - даталоадер, на котором вы хотите посчитать accuracy\n",
        "    \"\"\"\n",
        "    correct = 0\n",
        "    total = 0\n",
        "    with torch.no_grad(): # Тензоры внутри этого блока будут иметь requires_grad=False\n",
        "        for images, labels in dataloader:\n",
        "            outputs = model(images)\n",
        "            _, predicted = torch.max(outputs.data, 1)\n",
        "            total += labels.size(0)\n",
        "            correct += (predicted == labels).sum().item()\n",
        "    accuracy = correct / total\n",
        "\n",
        "    return accuracy"
      ],
      "metadata": {
        "id": "9D2QPFe5JdVc"
      },
      "execution_count": 20,
      "outputs": []
    },
    {
      "cell_type": "markdown",
      "source": [
        "#### Основной цикл обучения\n",
        "\n",
        "Этот код можно (и зачастую нужно) выносить в отдельную функцию, но пока что можете это не делать, все по желанию)"
      ],
      "metadata": {
        "id": "D3EmoWJyTBkE"
      }
    },
    {
      "cell_type": "code",
      "source": [
        "# Создадим объект модели\n",
        "DEVICE = \"cuda\" if torch.cuda.is_available() else \"cpu\"\n",
        "fc_net = FCNet().to(DEVICE)\n",
        "# Определим функцию потерь\n",
        "loss_function = nn.CrossEntropyLoss()\n",
        "# Создадим оптимизатор для нашей сети\n",
        "lr = 0.001 # скорость обучения\n",
        "optimizer = torch.optim.Adam(fc_net.parameters(), lr=3e-4)"
      ],
      "metadata": {
        "id": "uIZKSOdgUi3e"
      },
      "execution_count": 35,
      "outputs": []
    },
    {
      "cell_type": "markdown",
      "source": [
        "Напишите цикл обучения. Для начала хватит 10 эпох. Какое значение `accuracy` на тестовой выборке удалось получить?"
      ],
      "metadata": {
        "id": "uKYzXFqoX_fd"
      }
    },
    {
      "cell_type": "code",
      "source": [
        "n_epochs = 10\n",
        "loss_history = []\n",
        "\n",
        "## YOUR CODE HERE\n",
        "for epoch in range(n_epochs):\n",
        "  epoch_loss = 0\n",
        "  for images, labels in trainloader:\n",
        "    images = images.to(DEVICE)\n",
        "    labels = labels.to(DEVICE)\n",
        "\n",
        "    outputs = fc_net(images)\n",
        "    loss = loss_function(outputs, labels)\n",
        "\n",
        "    loss.backward()\n",
        "    optimizer.step()\n",
        "    optimizer.zero_grad()\n",
        "\n",
        "    epoch_loss += loss.item()\n",
        "\n",
        "  loss_history.append(epoch_loss / len(trainloader))\n",
        "  print(f\"Epoch={epoch+1} loss={loss_history[epoch]:.4f}\")"
      ],
      "metadata": {
        "id": "Ma2bshC6MxI6",
        "colab": {
          "base_uri": "https://localhost:8080/"
        },
        "outputId": "4c203ffe-32b5-49be-8bda-7d9d5266c44a"
      },
      "execution_count": 36,
      "outputs": [
        {
          "output_type": "stream",
          "name": "stdout",
          "text": [
            "Epoch=1 loss=0.9181\n",
            "Epoch=2 loss=0.4557\n",
            "Epoch=3 loss=0.3598\n",
            "Epoch=4 loss=0.2987\n",
            "Epoch=5 loss=0.2579\n",
            "Epoch=6 loss=0.2234\n",
            "Epoch=7 loss=0.1949\n",
            "Epoch=8 loss=0.1723\n",
            "Epoch=9 loss=0.1523\n",
            "Epoch=10 loss=0.1355\n"
          ]
        }
      ]
    },
    {
      "cell_type": "code",
      "source": [
        "get_accuracy(fc_net.to('cpu'), testloader)"
      ],
      "metadata": {
        "id": "2cB5LRbrS3BN",
        "colab": {
          "base_uri": "https://localhost:8080/"
        },
        "outputId": "afd406ea-85dc-4f28-ddbd-96a0052173f6"
      },
      "execution_count": 41,
      "outputs": [
        {
          "output_type": "stream",
          "name": "stderr",
          "text": [
            "Exception ignored in: <function _MultiProcessingDataLoaderIter.__del__ at 0x7baa11e49240>\n",
            "Traceback (most recent call last):\n",
            "  File \"/usr/local/lib/python3.10/dist-packages/torch/utils/data/dataloader.py\", line 1479, in __del__\n",
            "Exception ignored in: <function _MultiProcessingDataLoaderIter.__del__ at 0x7baa11e49240>    \n",
            "self._shutdown_workers()Traceback (most recent call last):\n",
            "\n",
            "  File \"/usr/local/lib/python3.10/dist-packages/torch/utils/data/dataloader.py\", line 1479, in __del__\n",
            "      File \"/usr/local/lib/python3.10/dist-packages/torch/utils/data/dataloader.py\", line 1462, in _shutdown_workers\n",
            "self._shutdown_workers()    \n",
            "if w.is_alive():  File \"/usr/local/lib/python3.10/dist-packages/torch/utils/data/dataloader.py\", line 1462, in _shutdown_workers\n",
            "\n",
            "      File \"/usr/lib/python3.10/multiprocessing/process.py\", line 160, in is_alive\n",
            "if w.is_alive():    \n",
            "assert self._parent_pid == os.getpid(), 'can only test a child process'  File \"/usr/lib/python3.10/multiprocessing/process.py\", line 160, in is_alive\n",
            "\n",
            "    AssertionErrorassert self._parent_pid == os.getpid(), 'can only test a child process': \n",
            "can only test a child process\n",
            "AssertionError: can only test a child process\n"
          ]
        },
        {
          "output_type": "execute_result",
          "data": {
            "text/plain": [
              "0.874"
            ]
          },
          "metadata": {},
          "execution_count": 41
        }
      ]
    },
    {
      "cell_type": "markdown",
      "source": [
        "### Задание 4. Изучение влияния нормализации\n",
        "\n",
        "**3** балла\n",
        "\n",
        "Вы могли заметить, что мы забыли провести нормализацию наших данных, а для нейронных сетей это может быть очень критично.\n",
        "\n",
        "Нормализуйте данные.\n",
        "\n",
        "* Подсчитайте среднее значение и стандартное отклонение интенсивности пикселей для всех тренировочных данных\n",
        "* Нормализуйте данные с использованием этих параметров (используйте трансформацию `Normalize`)\n",
        "\n",
        "\n",
        "Оцените влияние нормировки данных."
      ],
      "metadata": {
        "id": "4HTJzBM8Yk1R"
      }
    },
    {
      "cell_type": "code",
      "source": [
        "mean = trainset.data.float().mean(dim=(0,1,2)) / 255\n",
        "std = trainset.data.float().std(dim=(0,1,2)) / 255\n",
        "print(mean, std)\n",
        "\n",
        "transform_with_norm = torchvision.transforms.Compose([\n",
        "                torchvision.transforms.ToTensor(),\n",
        "                torchvision.transforms.Normalize(mean, std)\n",
        "            ])\n",
        "\n",
        "trainset.transform = transform_with_norm\n",
        "testset.transform = transform_with_norm\n",
        "\n",
        "batch_size = 256\n",
        "\n",
        "trainloader = DataLoader(trainset, batch_size=batch_size, shuffle=True, num_workers=2)\n",
        "testloader = DataLoader(testset, batch_size=batch_size, shuffle=False, num_workers=2)"
      ],
      "metadata": {
        "id": "FHlDaYWGR6YA",
        "colab": {
          "base_uri": "https://localhost:8080/"
        },
        "outputId": "4b4d97b6-397d-484e-9e55-55e389a38443"
      },
      "execution_count": 116,
      "outputs": [
        {
          "output_type": "stream",
          "name": "stdout",
          "text": [
            "tensor(0.1918) tensor(0.3483)\n"
          ]
        }
      ]
    },
    {
      "cell_type": "code",
      "source": [
        "fc_net = FCNet().to(DEVICE)\n",
        "loss_function = nn.CrossEntropyLoss()\n",
        "lr = 0.001\n",
        "optimizer = torch.optim.Adam(fc_net.parameters(), lr=3e-4)"
      ],
      "metadata": {
        "id": "Qj93J3X_R6aa"
      },
      "execution_count": 120,
      "outputs": []
    },
    {
      "cell_type": "code",
      "source": [
        "n_epochs = 10\n",
        "loss_history = []\n",
        "\n",
        "## YOUR CODE HERE\n",
        "for epoch in range(n_epochs):\n",
        "  epoch_loss = 0\n",
        "  for images, labels in trainloader:\n",
        "    images = images.to(DEVICE)\n",
        "    labels = labels.to(DEVICE)\n",
        "\n",
        "    outputs = fc_net(images)\n",
        "    loss = loss_function(outputs, labels)\n",
        "\n",
        "    loss.backward()\n",
        "    optimizer.step()\n",
        "    optimizer.zero_grad()\n",
        "\n",
        "    epoch_loss += loss.item()\n",
        "\n",
        "  loss_history.append(epoch_loss / len(trainloader))\n",
        "  print(f\"Epoch={epoch+1} loss={loss_history[epoch]:.4f}\")"
      ],
      "metadata": {
        "id": "VWZtYBCvAoWQ",
        "colab": {
          "base_uri": "https://localhost:8080/"
        },
        "outputId": "3ba399fe-2158-4695-d130-1b80b6d9f546"
      },
      "execution_count": 121,
      "outputs": [
        {
          "output_type": "stream",
          "name": "stdout",
          "text": [
            "Epoch=1 loss=0.6816\n",
            "Epoch=2 loss=0.3018\n",
            "Epoch=3 loss=0.2214\n",
            "Epoch=4 loss=0.1727\n",
            "Epoch=5 loss=0.1384\n",
            "Epoch=6 loss=0.1111\n",
            "Epoch=7 loss=0.0900\n",
            "Epoch=8 loss=0.0736\n",
            "Epoch=9 loss=0.0601\n",
            "Epoch=10 loss=0.0498\n"
          ]
        }
      ]
    },
    {
      "cell_type": "code",
      "source": [
        "get_accuracy(fc_net.to('cpu'), testloader)"
      ],
      "metadata": {
        "id": "Gfbv9OIAAoYT",
        "colab": {
          "base_uri": "https://localhost:8080/"
        },
        "outputId": "738cacf4-8277-47ff-cdf5-0ccb89e336e6"
      },
      "execution_count": 122,
      "outputs": [
        {
          "output_type": "execute_result",
          "data": {
            "text/plain": [
              "0.8915"
            ]
          },
          "metadata": {},
          "execution_count": 122
        }
      ]
    },
    {
      "cell_type": "markdown",
      "source": [
        "Как изменилась `accuracy` после нормализации?"
      ],
      "metadata": {
        "id": "RcIJvhWkcjlh"
      }
    },
    {
      "cell_type": "markdown",
      "source": [
        "Возросла с 0.874 до 0.8915"
      ],
      "metadata": {
        "id": "G1LHKF2PsZ4U"
      }
    },
    {
      "cell_type": "markdown",
      "source": [
        "### Задание 5. Изучение влияния функции активации\n",
        "\n",
        "**3** балла\n",
        "\n",
        "Исследуйте влияние функций активации на скорость обучения и точность предсказаний модели.\n",
        "\n",
        "Используйте три функции:\n",
        "\n",
        "* [Sigmoid](https://pytorch.org/docs/stable/nn.functional.html#sigmoid)\n",
        "* [GELU](https://pytorch.org/docs/stable/nn.functional.html#gelu)\n",
        "* [Tanh](https://pytorch.org/docs/stable/generated/torch.nn.Tanh.html#torch.nn.Tanh)"
      ],
      "metadata": {
        "id": "atcfzu4acxP2"
      }
    },
    {
      "cell_type": "code",
      "source": [
        "## YOUR CODE HERE\n",
        "import torch.nn as nn\n",
        "\n",
        "class FCNet_sigmoid(nn.Module):\n",
        "    def __init__(self):\n",
        "        super().__init__() #  это надо помнить!\n",
        "        ## YOUR CODE HERE\n",
        "        self.layers = nn.Sequential(\n",
        "            nn.Flatten(),\n",
        "            nn.Linear(1*28*28, 256),\n",
        "            nn.Sigmoid(),\n",
        "            nn.Linear(256,128),\n",
        "            nn.Sigmoid(),\n",
        "            nn.Linear(128,10)\n",
        "        )\n",
        "\n",
        "    def forward(self, x):  # Forward вызывается внутри метода __call__ родительского класса\n",
        "        ## x -> тензор размерности (BATCH_SIZE, N_CHANNELS, WIDTH, HEIGHT)\n",
        "        ## надо подумать над тем, что у нас полносвязные слои принимают векторы\n",
        "\n",
        "        ## YOUR CODE HERE\n",
        "        logits = self.layers(x)\n",
        "        return logits\n",
        "\n",
        "class FCNet_GELU(nn.Module):\n",
        "    def __init__(self):\n",
        "        super().__init__() #  это надо помнить!\n",
        "        ## YOUR CODE HERE\n",
        "        self.layers = nn.Sequential(\n",
        "            nn.Flatten(),\n",
        "            nn.Linear(1*28*28, 256),\n",
        "            nn.GELU(),\n",
        "            nn.Linear(256,128),\n",
        "            nn.GELU(),\n",
        "            nn.Linear(128,10)\n",
        "        )\n",
        "\n",
        "    def forward(self, x):  # Forward вызывается внутри метода __call__ родительского класса\n",
        "        ## x -> тензор размерности (BATCH_SIZE, N_CHANNELS, WIDTH, HEIGHT)\n",
        "        ## надо подумать над тем, что у нас полносвязные слои принимают векторы\n",
        "\n",
        "        ## YOUR CODE HERE\n",
        "        logits = self.layers(x)\n",
        "        return logits\n",
        "\n",
        "\n",
        "class FCNet_tanh(nn.Module):\n",
        "    def __init__(self):\n",
        "        super().__init__() #  это надо помнить!\n",
        "        ## YOUR CODE HERE\n",
        "        self.layers = nn.Sequential(\n",
        "            nn.Flatten(),\n",
        "            nn.Linear(1*28*28, 256),\n",
        "            nn.Tanh(),\n",
        "            nn.Linear(256,128),\n",
        "            nn.Tanh(),\n",
        "            nn.Linear(128,10)\n",
        "        )\n",
        "\n",
        "    def forward(self, x):  # Forward вызывается внутри метода __call__ родительского класса\n",
        "        ## x -> тензор размерности (BATCH_SIZE, N_CHANNELS, WIDTH, HEIGHT)\n",
        "        ## надо подумать над тем, что у нас полносвязные слои принимают векторы\n",
        "\n",
        "        ## YOUR CODE HERE\n",
        "        logits = self.layers(x)\n",
        "        return logits\n",
        "\n",
        "fc_net_sigmoid = FCNet_sigmoid().to(DEVICE)\n",
        "fc_net_gelu = FCNet_GELU().to(DEVICE)\n",
        "fc_net_tanh = FCNet_tanh().to(DEVICE)\n",
        "\n",
        "def train(fc_net):\n",
        "  fc_net = fc_net().to(DEVICE)\n",
        "  loss_function = nn.CrossEntropyLoss()\n",
        "  optimizer = torch.optim.Adam(fc_net.parameters(), lr=3e-4)\n",
        "\n",
        "  n_epochs = 10\n",
        "  loss_history = []\n",
        "\n",
        "  ## YOUR CODE HERE\n",
        "  for epoch in range(n_epochs):\n",
        "    epoch_loss = 0\n",
        "    for images, labels in trainloader:\n",
        "      images = images.to(DEVICE)\n",
        "      labels = labels.to(DEVICE)\n",
        "\n",
        "      outputs = fc_net(images)\n",
        "      loss = loss_function(outputs, labels)\n",
        "\n",
        "      loss.backward()\n",
        "      optimizer.step()\n",
        "      optimizer.zero_grad()\n",
        "\n",
        "      epoch_loss += loss.item()\n",
        "\n",
        "    loss_history.append(epoch_loss / len(trainloader))\n",
        "    print(f\"Epoch={epoch+1} loss={loss_history[epoch]:.4f}\")\n",
        "  return get_accuracy(fc_net.to('cpu'), testloader)"
      ],
      "metadata": {
        "id": "bAESPpjGa3M1"
      },
      "execution_count": 130,
      "outputs": []
    },
    {
      "cell_type": "code",
      "source": [
        "for model in [FCNet_sigmoid, FCNet_GELU, FCNet_tanh]:\n",
        "  print(f'{model} accuracy: {train(model)}')"
      ],
      "metadata": {
        "id": "GdvHSFeKa2sW",
        "colab": {
          "base_uri": "https://localhost:8080/"
        },
        "outputId": "7b145f66-5b18-45dc-ec91-e4c0e60cba0f"
      },
      "execution_count": 131,
      "outputs": [
        {
          "output_type": "stream",
          "name": "stdout",
          "text": [
            "Epoch=1 loss=1.5380\n",
            "Epoch=2 loss=0.7546\n",
            "Epoch=3 loss=0.5481\n",
            "Epoch=4 loss=0.4434\n",
            "Epoch=5 loss=0.3719\n",
            "Epoch=6 loss=0.3183\n",
            "Epoch=7 loss=0.2760\n",
            "Epoch=8 loss=0.2408\n",
            "Epoch=9 loss=0.2117\n",
            "Epoch=10 loss=0.1872\n",
            "<class '__main__.FCNet_sigmoid'> accuracy: 0.8533\n",
            "Epoch=1 loss=0.6604\n",
            "Epoch=2 loss=0.2837\n",
            "Epoch=3 loss=0.2054\n",
            "Epoch=4 loss=0.1563\n",
            "Epoch=5 loss=0.1230\n",
            "Epoch=6 loss=0.0997\n",
            "Epoch=7 loss=0.0795\n",
            "Epoch=8 loss=0.0632\n",
            "Epoch=9 loss=0.0502\n",
            "Epoch=10 loss=0.0394\n",
            "<class '__main__.FCNet_GELU'> accuracy: 0.8988\n",
            "Epoch=1 loss=0.7725\n",
            "Epoch=2 loss=0.3858\n",
            "Epoch=3 loss=0.2592\n",
            "Epoch=4 loss=0.1848\n",
            "Epoch=5 loss=0.1378\n",
            "Epoch=6 loss=0.1033\n",
            "Epoch=7 loss=0.0780\n",
            "Epoch=8 loss=0.0576\n",
            "Epoch=9 loss=0.0436\n",
            "Epoch=10 loss=0.0314\n",
            "<class '__main__.FCNet_tanh'> accuracy: 0.9005\n"
          ]
        }
      ]
    },
    {
      "cell_type": "markdown",
      "source": [
        "С использованием какой функции активации удалось досчить наибольшей `accuracy`?"
      ],
      "metadata": {
        "id": "aG2Oyxy2egVV"
      }
    },
    {
      "cell_type": "markdown",
      "source": [
        "с сигмойдой метрика 0.8533\n",
        "\n",
        "с gelu метрика 0.8988\n",
        "\n",
        "с tanh метрика 0.9005\n",
        "\n",
        "с tanh получилось получить лучший скор"
      ],
      "metadata": {
        "id": "5SaqWhlkjuO3"
      }
    },
    {
      "cell_type": "markdown",
      "source": [
        "### Задание 6. Другие оптимизаторы\n",
        "\n",
        "**4** балла\n",
        "\n",
        "Исследуйте влияние оптимизаторов на скорость обучения и точность предсказаний модели.\n",
        "\n",
        "Попробуйте следующие:\n",
        "\n",
        "* [Adam](https://pytorch.org/docs/stable/generated/torch.optim.Adam.html#torch.optim.Adam)\n",
        "* [RMSprop](https://pytorch.org/docs/stable/generated/torch.optim.RMSprop.html#torch.optim.RMSprop)\n",
        "* [Adagrad](https://pytorch.org/docs/stable/generated/torch.optim.Adagrad.html#torch.optim.Adagrad)\n",
        "\n",
        "Вам нужно снова обучить 3 модели и сравнить их перформанс (функцию активации используйте ту, которая показала себя лучше всего)."
      ],
      "metadata": {
        "id": "20Ls3Bfsifqd"
      }
    },
    {
      "cell_type": "code",
      "source": [
        "def train(fc_net, optimizer_alg):\n",
        "  fc_net = fc_net().to(DEVICE)\n",
        "  loss_function = nn.CrossEntropyLoss()\n",
        "  optimizer = optimizer_alg(fc_net.parameters(), lr=3e-4)\n",
        "\n",
        "  n_epochs = 10\n",
        "  loss_history = []\n",
        "\n",
        "  ## YOUR CODE HERE\n",
        "  for epoch in range(n_epochs):\n",
        "    epoch_loss = 0\n",
        "    for images, labels in trainloader:\n",
        "      images = images.to(DEVICE)\n",
        "      labels = labels.to(DEVICE)\n",
        "\n",
        "      outputs = fc_net(images)\n",
        "      loss = loss_function(outputs, labels)\n",
        "\n",
        "      loss.backward()\n",
        "      optimizer.step()\n",
        "      optimizer.zero_grad()\n",
        "\n",
        "      epoch_loss += loss.item()\n",
        "\n",
        "    loss_history.append(epoch_loss / len(trainloader))\n",
        "    print(f\"Epoch={epoch+1} loss={loss_history[epoch]:.4f}\")\n",
        "  return get_accuracy(fc_net.to('cpu'), testloader)"
      ],
      "metadata": {
        "id": "rzL2LdA-ifJh"
      },
      "execution_count": 141,
      "outputs": []
    },
    {
      "cell_type": "code",
      "source": [
        "for optimizer_alg in [torch.optim.Adam, torch.optim.RMSprop, torch.optim.Adagrad, torch.optim.AdamW]:\n",
        "  print(f'{optimizer_alg} accuracy: {train(FCNet_tanh, optimizer_alg)}')"
      ],
      "metadata": {
        "colab": {
          "base_uri": "https://localhost:8080/"
        },
        "id": "okVv-oQcm7xu",
        "outputId": "fd84a988-182d-4a39-e908-3802510a65eb"
      },
      "execution_count": 142,
      "outputs": [
        {
          "output_type": "stream",
          "name": "stderr",
          "text": [
            "/usr/lib/python3.10/multiprocessing/popen_fork.py:66: RuntimeWarning: os.fork() was called. os.fork() is incompatible with multithreaded code, and JAX is multithreaded, so this will likely lead to a deadlock.\n",
            "  self.pid = os.fork()\n"
          ]
        },
        {
          "output_type": "stream",
          "name": "stdout",
          "text": [
            "Epoch=1 loss=0.7779\n",
            "Epoch=2 loss=0.3845\n",
            "Epoch=3 loss=0.2586\n",
            "Epoch=4 loss=0.1853\n",
            "Epoch=5 loss=0.1377\n",
            "Epoch=6 loss=0.1033\n",
            "Epoch=7 loss=0.0777\n",
            "Epoch=8 loss=0.0576\n",
            "Epoch=9 loss=0.0425\n",
            "Epoch=10 loss=0.0313\n",
            "<class 'torch.optim.adam.Adam'> accuracy: 0.9016\n",
            "Epoch=1 loss=0.5679\n",
            "Epoch=2 loss=0.3117\n",
            "Epoch=3 loss=0.2171\n",
            "Epoch=4 loss=0.1592\n",
            "Epoch=5 loss=0.1198\n",
            "Epoch=6 loss=0.0906\n",
            "Epoch=7 loss=0.0680\n",
            "Epoch=8 loss=0.0511\n",
            "Epoch=9 loss=0.0377\n",
            "Epoch=10 loss=0.0285\n",
            "<class 'torch.optim.rmsprop.RMSprop'> accuracy: 0.8817\n",
            "Epoch=1 loss=1.4058\n",
            "Epoch=2 loss=1.0186\n",
            "Epoch=3 loss=0.8907\n",
            "Epoch=4 loss=0.8180\n",
            "Epoch=5 loss=0.7698\n",
            "Epoch=6 loss=0.7342\n",
            "Epoch=7 loss=0.7070\n",
            "Epoch=8 loss=0.6849\n",
            "Epoch=9 loss=0.6668\n",
            "Epoch=10 loss=0.6507\n",
            "<class 'torch.optim.adagrad.Adagrad'> accuracy: 0.6822\n",
            "Epoch=1 loss=0.7784\n",
            "Epoch=2 loss=0.3879\n",
            "Epoch=3 loss=0.2609\n",
            "Epoch=4 loss=0.1862\n",
            "Epoch=5 loss=0.1387\n",
            "Epoch=6 loss=0.1033\n",
            "Epoch=7 loss=0.0784\n",
            "Epoch=8 loss=0.0583\n",
            "Epoch=9 loss=0.0439\n",
            "Epoch=10 loss=0.0327\n",
            "<class 'torch.optim.adamw.AdamW'> accuracy: 0.8972\n"
          ]
        }
      ]
    },
    {
      "cell_type": "markdown",
      "source": [
        "С Адамом получилась лучшая метрика 0.9016"
      ],
      "metadata": {
        "id": "V32VmtwsrSEy"
      }
    },
    {
      "cell_type": "markdown",
      "source": [
        "### Задание 7. Реализация ReLU\n",
        "\n",
        "**4** балла\n",
        "\n",
        "Самостоятельно реализуйте функцию активации ReLU.\n",
        "Замените в уже обученной модели функцию активации на вашу. Убедитесь что ничего не изменилась."
      ],
      "metadata": {
        "id": "eHA48PsperxS"
      }
    },
    {
      "cell_type": "code",
      "source": [
        "class CustomReLU(nn.Module):\n",
        "    def __init__(self):\n",
        "        super().__init__()\n",
        "\n",
        "    def forward(self, x):\n",
        "        # YOUR CODE HER\n",
        "        # если элемент x < 0, то 0, если >= 0, то x\n",
        "        x = torch.where(x < 0, 0.0, x)\n",
        "        return x\n"
      ],
      "metadata": {
        "id": "63uTkUp-a2xr"
      },
      "execution_count": 138,
      "outputs": []
    },
    {
      "cell_type": "markdown",
      "source": [
        "Заново обучите модель и проверьте правильность реализации `CustomReLU`."
      ],
      "metadata": {
        "id": "xsKzxa33fhbN"
      }
    },
    {
      "cell_type": "code",
      "source": [
        "class FCNet(nn.Module):\n",
        "    def __init__(self):\n",
        "        super().__init__() #  это надо помнить!\n",
        "        ## YOUR CODE HERE\n",
        "        self.layers = nn.Sequential(\n",
        "            nn.Flatten(),\n",
        "            nn.Linear(1*28*28, 256),\n",
        "            CustomReLU(),\n",
        "            nn.Linear(256,128),\n",
        "            CustomReLU(),\n",
        "            nn.Linear(128,10)\n",
        "        )\n",
        "\n",
        "    def forward(self, x):  # Forward вызывается внутри метода __call__ родительского класса\n",
        "        ## x -> тензор размерности (BATCH_SIZE, N_CHANNELS, WIDTH, HEIGHT)\n",
        "        ## надо подумать над тем, что у нас полносвязные слои принимают векторы\n",
        "\n",
        "        ## YOUR CODE HERE\n",
        "        logits = self.layers(x)\n",
        "        return logits\n",
        "\n",
        "# Создадим объект модели\n",
        "DEVICE = \"cuda\" if torch.cuda.is_available() else \"cpu\"\n",
        "fc_net = FCNet().to(DEVICE)\n",
        "# Определим функцию потерь\n",
        "loss_function = nn.CrossEntropyLoss()\n",
        "# Создадим оптимизатор для нашей сети\n",
        "lr = 0.001 # скорость обучения\n",
        "optimizer = torch.optim.Adam(fc_net.parameters(), lr=3e-4)\n",
        "\n",
        "n_epochs = 10\n",
        "loss_history = []\n",
        "\n",
        "## YOUR CODE HERE\n",
        "for epoch in range(n_epochs):\n",
        "  epoch_loss = 0\n",
        "  for images, labels in trainloader:\n",
        "    images = images.to(DEVICE)\n",
        "    labels = labels.to(DEVICE)\n",
        "\n",
        "    outputs = fc_net(images)\n",
        "    loss = loss_function(outputs, labels)\n",
        "\n",
        "    loss.backward()\n",
        "    optimizer.step()\n",
        "    optimizer.zero_grad()\n",
        "\n",
        "    epoch_loss += loss.item()\n",
        "\n",
        "  loss_history.append(epoch_loss / len(trainloader))\n",
        "  print(f\"Epoch={epoch+1} loss={loss_history[epoch]:.4f}\")\n",
        "\n",
        "get_accuracy(fc_net.to('cpu'), testloader)"
      ],
      "metadata": {
        "id": "ePP55RBeecYh",
        "colab": {
          "base_uri": "https://localhost:8080/"
        },
        "outputId": "7769056d-daf4-48fa-abd3-5233952ae155"
      },
      "execution_count": 140,
      "outputs": [
        {
          "output_type": "stream",
          "name": "stdout",
          "text": [
            "Epoch=1 loss=0.6978\n",
            "Epoch=2 loss=0.3122\n",
            "Epoch=3 loss=0.2308\n",
            "Epoch=4 loss=0.1799\n",
            "Epoch=5 loss=0.1440\n",
            "Epoch=6 loss=0.1174\n",
            "Epoch=7 loss=0.0955\n",
            "Epoch=8 loss=0.0785\n",
            "Epoch=9 loss=0.0639\n",
            "Epoch=10 loss=0.0526\n"
          ]
        },
        {
          "output_type": "execute_result",
          "data": {
            "text/plain": [
              "0.8961"
            ]
          },
          "metadata": {},
          "execution_count": 140
        }
      ]
    },
    {
      "cell_type": "markdown",
      "source": [
        "Действительно, CustomReLU работает как нужно"
      ],
      "metadata": {
        "id": "q0PewcGYscq8"
      }
    },
    {
      "cell_type": "markdown",
      "source": [
        "### Задание 8. Генерация картинок\n",
        "\n",
        "**3** балла\n",
        "\n",
        "Придумайте 3 предложения и сгенерируйте при помощи них 3 картинки, используя телеграм бота [ruDALLE](https://t.me/sber_rudalle_xl_bot). Прикрепите сюда ваши картины."
      ],
      "metadata": {
        "id": "vWBG1mMwgN17"
      }
    }
  ]
}